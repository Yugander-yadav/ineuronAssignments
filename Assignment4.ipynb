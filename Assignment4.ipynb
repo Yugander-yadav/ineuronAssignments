{
 "cells": [
  {
   "cell_type": "markdown",
   "id": "93720ed7",
   "metadata": {},
   "source": [
    "1. What exactly is []?"
   ]
  },
  {
   "cell_type": "markdown",
   "id": "b35f012c",
   "metadata": {},
   "source": [
    "SOL: [] is type of list"
   ]
  },
  {
   "cell_type": "markdown",
   "id": "05c401d0",
   "metadata": {},
   "source": [
    "2. In a list of values stored in a variable called spam, how would you assign the value &#39;hello&#39; as the\n",
    "third value? (Assume [2, 4, 6, 8, 10] are in spam.)"
   ]
  },
  {
   "cell_type": "code",
   "execution_count": 46,
   "id": "4f13426e",
   "metadata": {},
   "outputs": [
    {
     "name": "stdout",
     "output_type": "stream",
     "text": [
      "[2, 4, 'hello', 6, 8, 10]\n"
     ]
    }
   ],
   "source": [
    "spam = [2,4,6,8,10]\n",
    "spam.insert(2,'hello')\n",
    "print(spam)"
   ]
  },
  {
   "cell_type": "code",
   "execution_count": 4,
   "id": "eebac3df",
   "metadata": {},
   "outputs": [],
   "source": [
    "spam = ['a','b','c','d']"
   ]
  },
  {
   "cell_type": "markdown",
   "id": "7103cb3d",
   "metadata": {},
   "source": [
    "3. What is the value of spam[int(int(&#39;3&#39; * 2) / 11)]?"
   ]
  },
  {
   "cell_type": "code",
   "execution_count": 7,
   "id": "83fe110d",
   "metadata": {},
   "outputs": [
    {
     "name": "stdout",
     "output_type": "stream",
     "text": [
      "d\n"
     ]
    }
   ],
   "source": [
    "#SOL : \n",
    "    #     int(int('3'*2)/11) => 3 spam[3]=> d\n",
    "print(spam[3])"
   ]
  },
  {
   "cell_type": "markdown",
   "id": "a830554a",
   "metadata": {},
   "source": [
    "4. What is the value of spam[-1]?"
   ]
  },
  {
   "cell_type": "code",
   "execution_count": 8,
   "id": "7776b13d",
   "metadata": {},
   "outputs": [
    {
     "name": "stdout",
     "output_type": "stream",
     "text": [
      "d\n"
     ]
    }
   ],
   "source": [
    "#spam[-1] => d\n",
    "print(spam[-1])"
   ]
  },
  {
   "cell_type": "markdown",
   "id": "1754581b",
   "metadata": {},
   "source": [
    "What is the value of spam[:2]?"
   ]
  },
  {
   "cell_type": "code",
   "execution_count": 11,
   "id": "3e15d8b4",
   "metadata": {},
   "outputs": [
    {
     "name": "stdout",
     "output_type": "stream",
     "text": [
      "['a', 'b']\n"
     ]
    }
   ],
   "source": [
    " #spam[:2]=> a,b\n",
    "print(spam[:2])"
   ]
  },
  {
   "cell_type": "markdown",
   "id": "bd549f5b",
   "metadata": {},
   "source": [
    "#Let&#39;s pretend bacon has the list [3.14, &#39;cat,&#39; 11, &#39;cat,&#39; True] for the next three questions."
   ]
  },
  {
   "cell_type": "code",
   "execution_count": 29,
   "id": "c523b9a9",
   "metadata": {},
   "outputs": [],
   "source": [
    "bacon=[3.14, 'cat', 11, 'cat', True]"
   ]
  },
  {
   "cell_type": "markdown",
   "id": "1519c7d4",
   "metadata": {},
   "source": [
    "6. What is the value of bacon.index(&#39;cat&#39;)?"
   ]
  },
  {
   "cell_type": "code",
   "execution_count": 19,
   "id": "bffd14e8",
   "metadata": {},
   "outputs": [
    {
     "name": "stdout",
     "output_type": "stream",
     "text": [
      "1\n"
     ]
    }
   ],
   "source": [
    "# .index() method returns the index first occurance of the element \n",
    "# bacon.index('cat') => 1\n",
    "\n",
    "print(bacon.index(\"cat\"))"
   ]
  },
  {
   "cell_type": "markdown",
   "id": "f8ae77fd",
   "metadata": {},
   "source": [
    "7. How does bacon.append(99) change the look of the list value in bacon?"
   ]
  },
  {
   "cell_type": "code",
   "execution_count": 22,
   "id": "ddd033b2",
   "metadata": {},
   "outputs": [],
   "source": [
    "# the interger value 99 is added at the end of the list \n",
    "bacon.append(99)"
   ]
  },
  {
   "cell_type": "code",
   "execution_count": 23,
   "id": "5ec34c17",
   "metadata": {},
   "outputs": [
    {
     "name": "stdout",
     "output_type": "stream",
     "text": [
      "[3.14, 'cat', 11, 'cat', True, 99, 99]\n"
     ]
    }
   ],
   "source": [
    "print(bacon)"
   ]
  },
  {
   "cell_type": "markdown",
   "id": "8ef3a06a",
   "metadata": {},
   "source": [
    "8. How does bacon.remove('cat') change the look of the list in bacon?"
   ]
  },
  {
   "cell_type": "code",
   "execution_count": 30,
   "id": "3a78aa2c",
   "metadata": {},
   "outputs": [
    {
     "name": "stdout",
     "output_type": "stream",
     "text": [
      "[3.14, 'cat', 11, 'cat', True]\n",
      "[3.14, 11, 'cat', True]\n"
     ]
    }
   ],
   "source": [
    "print(bacon)\n",
    "bacon.remove(\"cat\")   # all the occurences of the cat values are removed \n",
    "print(bacon)"
   ]
  },
  {
   "cell_type": "markdown",
   "id": "4fe19bb6",
   "metadata": {},
   "source": [
    "9. What are the list concatenation and list replication operators?"
   ]
  },
  {
   "cell_type": "code",
   "execution_count": 32,
   "id": "bccc0cbd",
   "metadata": {},
   "outputs": [],
   "source": [
    "# list concatenation methonds \n",
    "# list.append()  -> to append an element at the end of the list \n",
    "# list.extend()  -> to append an list at the end of the list \n",
    "# list(*list1,*list2)-> new list is formed using the * args operator "
   ]
  },
  {
   "cell_type": "markdown",
   "id": "78dafb63",
   "metadata": {},
   "source": [
    "10. What is difference between the list methods append() and insert()?"
   ]
  },
  {
   "cell_type": "code",
   "execution_count": 34,
   "id": "6a0e4017",
   "metadata": {},
   "outputs": [],
   "source": [
    "# list.append(element) -> to the add the element at the end of the list \n",
    "# list.insert(index,number)-> to insert an element at the desired position"
   ]
  },
  {
   "cell_type": "markdown",
   "id": "2540a105",
   "metadata": {},
   "source": [
    "11. What are the two methods for removing items from a list?"
   ]
  },
  {
   "cell_type": "markdown",
   "id": "9eb9590e",
   "metadata": {},
   "source": [
    " list.pop() -> removes the element at the end of the list \n",
    "\n",
    " \n",
    "list.remove('3') -> removes the given the element from the list "
   ]
  },
  {
   "cell_type": "markdown",
   "id": "3ebe0857",
   "metadata": {},
   "source": [
    "12. Describe how list values and string values are identical."
   ]
  },
  {
   "cell_type": "markdown",
   "id": "1fb01d1f",
   "metadata": {},
   "source": [
    "SOL: In both the list and the strings we can access the elements using the index and we can perform the slicing and \n",
    "by iteration we can use the list / string elements "
   ]
  },
  {
   "cell_type": "markdown",
   "id": "4d08985d",
   "metadata": {},
   "source": [
    "13. What are  the differences between tuples and lists?"
   ]
  },
  {
   "cell_type": "markdown",
   "id": "d05353aa",
   "metadata": {},
   "source": [
    "LISTS:\n",
    "\n",
    "lists are mutable ;\n",
    "[] are used for lists \n",
    "\n",
    "\n",
    "TUPLES:\n",
    "\n",
    "tuples are immutable ; \n",
    "\n",
    "() are used for tuples"
   ]
  },
  {
   "cell_type": "markdown",
   "id": "5fc134ce",
   "metadata": {},
   "source": [
    "14. How do you type a tuple value that only contains the integer 42?"
   ]
  },
  {
   "cell_type": "code",
   "execution_count": 38,
   "id": "6058c5b3",
   "metadata": {},
   "outputs": [
    {
     "name": "stdout",
     "output_type": "stream",
     "text": [
      "<class 'tuple'>\n"
     ]
    }
   ],
   "source": [
    "sample=(42,)\n",
    "print(type(sample))"
   ]
  },
  {
   "cell_type": "markdown",
   "id": "44969408",
   "metadata": {},
   "source": []
  },
  {
   "cell_type": "markdown",
   "id": "a5f43aec",
   "metadata": {},
   "source": [
    "15. How do you get a list values tuple form? How do you get a tuple values list form?"
   ]
  },
  {
   "cell_type": "code",
   "execution_count": 45,
   "id": "b4afb164",
   "metadata": {},
   "outputs": [
    {
     "name": "stdout",
     "output_type": "stream",
     "text": [
      "<class 'list'>\n",
      "<class 'tuple'>\n"
     ]
    }
   ],
   "source": [
    "a=(1,2,2,3,4,4) # tuple is created \n",
    "\n",
    "\n",
    "a_list=list(a)  # list is formed from tuple\n",
    "print(type(a_list))\n",
    "\n",
    "\n",
    "a_tuple=tuple(a_list) #  tuple is formed from list\n",
    "print(type(a_tuple))\n",
    "\n"
   ]
  },
  {
   "cell_type": "markdown",
   "id": "ca60d1ce",
   "metadata": {},
   "source": [
    "16. Variables that &quot;contain&quot; list values are not necessarily lists themselves. Instead, what do they\n",
    "contain?"
   ]
  },
  {
   "cell_type": "markdown",
   "id": "c07b5146",
   "metadata": {},
   "source": [
    "The list values doesn't necessarly contains list themsleves; instead they contain address ( pointer) pointing to the memory address "
   ]
  },
  {
   "cell_type": "markdown",
   "id": "3996b8a0",
   "metadata": {},
   "source": [
    "17. How do you distinguish between copy.copy() and copy.deepcopy()?"
   ]
  },
  {
   "cell_type": "markdown",
   "id": "25fcc942",
   "metadata": {},
   "source": [
    "copy.copy()-> shallow copying; whenever the shallow copying is done; if any changes are made on the new list\n",
    "               the changes will reflect from the original list as well\n",
    "\n",
    "\n",
    "copy.deepcopy()-> deep copying : whenever the deepcopying is done ; if the changes made to list will be limited\n",
    "                to the new list only and the original list will remain inteact;"
   ]
  }
 ],
 "metadata": {
  "kernelspec": {
   "display_name": "Python 3 (ipykernel)",
   "language": "python",
   "name": "python3"
  },
  "language_info": {
   "codemirror_mode": {
    "name": "ipython",
    "version": 3
   },
   "file_extension": ".py",
   "mimetype": "text/x-python",
   "name": "python",
   "nbconvert_exporter": "python",
   "pygments_lexer": "ipython3",
   "version": "3.9.13"
  }
 },
 "nbformat": 4,
 "nbformat_minor": 5
}
