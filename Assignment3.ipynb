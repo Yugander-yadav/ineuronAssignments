{
 "cells": [
  {
   "cell_type": "markdown",
   "id": "e5dc65b2",
   "metadata": {},
   "source": [
    "Assigment -3 "
   ]
  },
  {
   "cell_type": "markdown",
   "id": "3c4e87d5",
   "metadata": {},
   "source": [
    "    # 1 Why are functions advantageous to have in your programs?"
   ]
  },
  {
   "cell_type": "markdown",
   "id": "81d8689e",
   "metadata": {},
   "source": [
    "    Sol:  functions are helpful for the follwing reasons\n",
    "        #1 Write once and use multiple times.\n",
    "        #2 Easy debugging.\n",
    "        #3 As the code is wirtten once and used at multple times because of which the error count is minimised.\n",
    "        #4 Increase in Modularity."
   ]
  },
  {
   "cell_type": "markdown",
   "id": "a19b771b",
   "metadata": {},
   "source": [
    "    # 2. When does the code in a function run: when it is specified or when its called?"
   ]
  },
  {
   "cell_type": "markdown",
   "id": "1a7a61b3",
   "metadata": {},
   "source": [
    "     SOl: The code written the function is run when the function is called."
   ]
  },
  {
   "cell_type": "markdown",
   "id": "2d0a5577",
   "metadata": {},
   "source": [
    "      # 3. What statement creates a function?"
   ]
  },
  {
   "cell_type": "code",
   "execution_count": 16,
   "id": "78750d17",
   "metadata": {},
   "outputs": [
    {
     "name": "stdout",
     "output_type": "stream",
     "text": [
      "this is a sample function \n"
     ]
    }
   ],
   "source": [
    " #SOL:\n",
    "def sample_func():\n",
    "        print(\"this is a sample function \")\n",
    "sample_func()"
   ]
  },
  {
   "cell_type": "markdown",
   "id": "bd2c859e",
   "metadata": {},
   "source": [
    "    # 4.  What is the difference between a function and a function call?"
   ]
  },
  {
   "cell_type": "markdown",
   "id": "a934cee6",
   "metadata": {},
   "source": [
    "    SOL: Function is a piece of code written in a python program.functions usually takes the parameters, perform the operations and returns a value.\n",
    "    \n",
    "    Function Call : it is used to pass the control to the function  and  to pass the parameters    or to invoke the function. "
   ]
  },
  {
   "cell_type": "markdown",
   "id": "85b01d34",
   "metadata": {},
   "source": [
    "    #5. How many global scopes are there in a Python program? How many local scopes?"
   ]
  },
  {
   "cell_type": "markdown",
   "id": "6024132a",
   "metadata": {},
   "source": [
    "     SOL:  Scopes in python \n",
    "                     1. Local \n",
    "                     2. Global\n",
    "                     3. Enclosed \n",
    "                     4. Built in "
   ]
  },
  {
   "cell_type": "markdown",
   "id": "5fe2b96d",
   "metadata": {},
   "source": [
    "#6. What happens to variables in a local scope when the function call returns?"
   ]
  },
  {
   "cell_type": "markdown",
   "id": "a799e32c",
   "metadata": {},
   "source": [
    "    SOL: The  local variables defined in the function are terminated, when the function call returns"
   ]
  },
  {
   "cell_type": "markdown",
   "id": "24dafe45",
   "metadata": {},
   "source": [
    "#7. What is the concept of a return value? Is it possible to have a return value in an expression?"
   ]
  },
  {
   "cell_type": "markdown",
   "id": "70620871",
   "metadata": {},
   "source": [
    "     SOL :  Whenever the function is defined the after the opertation is performed in the function body, we can return the result of operations and pass the control to the main body of the program \n",
    "\n",
    "    to have the retun value in an expression \n",
    "\n",
    "    sample = function_Name() // the return value from the function_name() is stored in the sample "
   ]
  },
  {
   "cell_type": "markdown",
   "id": "48ebf9cb",
   "metadata": {},
   "source": [
    "#8. If a function does not have a return statement, what is the return value of a call to that function?"
   ]
  },
  {
   "cell_type": "markdown",
   "id": "f4e8e64f",
   "metadata": {},
   "source": [
    "    SOL:    if there is no return statement in the function. the function return value would be  \" None \""
   ]
  },
  {
   "cell_type": "markdown",
   "id": "67805177",
   "metadata": {},
   "source": [
    "#9 How do you make a function variable refer to the global variable?"
   ]
  },
  {
   "cell_type": "markdown",
   "id": "0b3562c4",
   "metadata": {},
   "source": [
    "    SOL: By using global keyword we can make the function variables refer to the global variables"
   ]
  },
  {
   "cell_type": "markdown",
   "id": "0a331351",
   "metadata": {},
   "source": [
    "#10. What is the data type of None?"
   ]
  },
  {
   "cell_type": "markdown",
   "id": "ac1bb5bb",
   "metadata": {},
   "source": [
    "<class 'NoneType'>"
   ]
  },
  {
   "cell_type": "markdown",
   "id": "49042da6",
   "metadata": {},
   "source": [
    "#11. What does the sentence import areallyourpetsnamederic do?"
   ]
  },
  {
   "cell_type": "markdown",
   "id": "cd716eef",
   "metadata": {},
   "source": [
    "    SOL: imports all the functions and variables from the areallyourpetsnamederic module"
   ]
  },
  {
   "cell_type": "markdown",
   "id": "3e80d233",
   "metadata": {},
   "source": [
    "#12. If you had a bacon() feature in a spam module, what would you call it after importing spam?"
   ]
  },
  {
   "cell_type": "markdown",
   "id": "5bc32b26",
   "metadata": {},
   "source": [
    "    SOL: spam.bacon() "
   ]
  },
  {
   "cell_type": "markdown",
   "id": "9dfaa23a",
   "metadata": {},
   "source": [
    "#13. What can you do to save a programme from crashing if it encounters an error?"
   ]
  },
  {
   "cell_type": "markdown",
   "id": "63b1bdb7",
   "metadata": {},
   "source": [
    "    SOL:  we use try except blocks to prevent the program from crashing, if the program encounters and error the error is handled in the except block "
   ]
  },
  {
   "cell_type": "markdown",
   "id": "a470a713",
   "metadata": {},
   "source": [
    "#14. What is the purpose of the try clause? What is the purpose of the except clause?"
   ]
  },
  {
   "cell_type": "markdown",
   "id": "a575a3a9",
   "metadata": {},
   "source": [
    "    SOL: \n",
    "    try : In the try block the block of code where  we are anticipating the error is placed \n",
    "    Except: The Except clause is triggered when the code in the try block encounters and error and the error is handled in the Except clause "
   ]
  },
  {
   "cell_type": "code",
   "execution_count": null,
   "id": "ac08dfdc",
   "metadata": {},
   "outputs": [],
   "source": []
  }
 ],
 "metadata": {
  "kernelspec": {
   "display_name": "Python 3 (ipykernel)",
   "language": "python",
   "name": "python3"
  },
  "language_info": {
   "codemirror_mode": {
    "name": "ipython",
    "version": 3
   },
   "file_extension": ".py",
   "mimetype": "text/x-python",
   "name": "python",
   "nbconvert_exporter": "python",
   "pygments_lexer": "ipython3",
   "version": "3.9.13"
  }
 },
 "nbformat": 4,
 "nbformat_minor": 5
}
