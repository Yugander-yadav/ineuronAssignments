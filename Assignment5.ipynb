{
 "cells": [
  {
   "cell_type": "markdown",
   "id": "2a8eaebb",
   "metadata": {},
   "source": [
    "1. What does an empty dictionary&#39;s code look like?"
   ]
  },
  {
   "cell_type": "code",
   "execution_count": 3,
   "id": "e75ce905",
   "metadata": {},
   "outputs": [],
   "source": [
    "sample={} # this is the code for empty dictionary "
   ]
  },
  {
   "cell_type": "markdown",
   "id": "e1f9462f",
   "metadata": {},
   "source": [
    "2. What is the value of a dictionary value with the key &#39;foo&#39; and the value 42?"
   ]
  },
  {
   "cell_type": "code",
   "execution_count": 10,
   "id": "a2246ea9",
   "metadata": {},
   "outputs": [
    {
     "name": "stdout",
     "output_type": "stream",
     "text": [
      "{'foo': 42}\n"
     ]
    }
   ],
   "source": [
    "sample2={\"foo\":42}\n",
    "print(sample2)"
   ]
  },
  {
   "cell_type": "markdown",
   "id": "bc504621",
   "metadata": {},
   "source": [
    "3. What is the most significant distinction between a dictionary and a list?"
   ]
  },
  {
   "cell_type": "markdown",
   "id": "e86510a5",
   "metadata": {},
   "source": [
    "Dictionary stores the data in the key-value unordered form.\n",
    "\n",
    "Key is used to access the value from the dictionary. \n",
    "\n",
    "List stores data in serialised manner by using index.\n",
    "\n",
    "Index is required to acces the data from the list."
   ]
  },
  {
   "cell_type": "markdown",
   "id": "5047dc86",
   "metadata": {},
   "source": [
    "4. What happens if you try to access spam[&#39;foo&#39;] if spam is {&#39;bar&#39;: 100}?"
   ]
  },
  {
   "cell_type": "markdown",
   "id": "aa675e76",
   "metadata": {},
   "source": [
    "if we try to access the data using the keys which are not present in the dictionary \n",
    "\n",
    "we will get a KeyError \n",
    "\n"
   ]
  },
  {
   "cell_type": "markdown",
   "id": "5b0aef9f",
   "metadata": {},
   "source": [
    "5. If a dictionary is stored in spam, what is the difference between the expressions &#39;cat&#39; in spam and\n",
    "&#39;cat&#39; in spam.keys()?"
   ]
  },
  {
   "cell_type": "markdown",
   "id": "7086eaa1",
   "metadata": {},
   "source": [
    "There is no difference the in operator checks whether a values exits as a key in the dictionary "
   ]
  },
  {
   "cell_type": "markdown",
   "id": "10a2de0b",
   "metadata": {},
   "source": [
    "6. If a dictionary is stored in spam, what is the difference between the expressions &#39;cat&#39; in spam and\n",
    "&#39;cat&#39; in spam.values()?"
   ]
  },
  {
   "cell_type": "markdown",
   "id": "05c118da",
   "metadata": {},
   "source": [
    "cat in spam expression checks whether the spam dictionary contains cat as a key;\n",
    "\n",
    "cat in spam.values() expression checks whether the spam dictionary contains 'cat' as value for any key "
   ]
  },
  {
   "cell_type": "markdown",
   "id": "2d729bcb",
   "metadata": {},
   "source": [
    "7. What is a shortcut for the following code?\n",
    "if &#39;color&#39; not in spam:\n",
    "spam[&#39;color&#39;] = &#39;black&#39;"
   ]
  },
  {
   "cell_type": "markdown",
   "id": "65c1eee3",
   "metadata": {},
   "source": [
    "spam.setdefault('color', 'black')"
   ]
  },
  {
   "cell_type": "markdown",
   "id": "f7fcc9ae",
   "metadata": {},
   "source": [
    "8. How do you &quot;pretty print&quot; dictionary values using which module and function?"
   ]
  },
  {
   "cell_type": "code",
   "execution_count": 16,
   "id": "573aec6f",
   "metadata": {},
   "outputs": [
    {
     "name": "stdout",
     "output_type": "stream",
     "text": [
      "{'foo': 42}\n"
     ]
    }
   ],
   "source": [
    "import pprint\n",
    "pprint.pprint(sample)"
   ]
  }
 ],
 "metadata": {
  "kernelspec": {
   "display_name": "Python 3 (ipykernel)",
   "language": "python",
   "name": "python3"
  },
  "language_info": {
   "codemirror_mode": {
    "name": "ipython",
    "version": 3
   },
   "file_extension": ".py",
   "mimetype": "text/x-python",
   "name": "python",
   "nbconvert_exporter": "python",
   "pygments_lexer": "ipython3",
   "version": "3.9.13"
  }
 },
 "nbformat": 4,
 "nbformat_minor": 5
}
